{
 "cells": [
  {
   "cell_type": "markdown",
   "metadata": {},
   "source": [
    "# Opening and Closing Files"
   ]
  },
  {
   "cell_type": "markdown",
   "metadata": {},
   "source": [
    "Python provides basic functions and methods necessary to manipulate files by default."
   ]
  },
  {
   "cell_type": "markdown",
   "metadata": {},
   "source": [
    "## The open Function\n",
    "\n",
    "In python before reading and writing file we  have to open it using Python's built-in **open()** function. This function creates a file object, which would be utilized to call other support methods associated with it.\n",
    "\n",
    "syntax:<br>\n",
    "&emsp;file object = open(file_name [, access_mode][, buffering])\n",
    "\n",
    "here,**file_name**=name of the file system\n",
    "\n",
    "**access_mode**=The access_mode determines the mode in which the file has to be opened, i.e., read, write, append, etc. \n",
    "\n",
    "**buffering**=(optional parameter)The built-in open function have buffering option that sets the buffer policy when opening files. But the buffering option is\n",
    "The system API has already provided the system API for buffer option, so the open function is just a wrapper around the system call.\n",
    "There are different buffer policy according to file types (Binary/Text) and parameter numbers(-1,0,1,>1).\n",
    "\n",
    "io.DEFAULT_BUFFER_SIZE: System default buffer size, 8192 bytes (8KB).\n",
    "unbuffered: not use the buffer. Available in binary file mode. It means writing to hard disk in every action.\n",
    "line-buffering: buffer every line. Available in text file mode. It means writing to hard disk in every text line.\n",
    "specified buffer size: set the size you want to buffer. Available in binary file mode.<a href=\"https://medium.com/@bramblexu/understand-the-buffer-policy-in-python-78e91e7759ca\">[1]</a>"
   ]
  },
  {
   "cell_type": "markdown",
   "metadata": {},
   "source": [
    "<img src=\"https://miro.medium.com/max/860/1*PoEBVK5XrdYeS6phP-O7YQ.png\">"
   ]
  },
  {
   "cell_type": "markdown",
   "metadata": {},
   "source": [
    "<table class=\"table table-bordered\">\n",
    "<tbody><tr>\n",
    "<th style=\"text-align:center;\">Sr.No.</th>\n",
    "<th style=\"text-align:center;\">Modes &amp; Description</th>\n",
    "</tr>\n",
    "<tr>\n",
    "<td>1</td>\n",
    "<td><p><b>r</b></p>\n",
    "<p>Opens a file for reading only. The file pointer is placed at the beginning of the file. This is the default mode.</p></td>\n",
    "</tr>\n",
    "<tr>\n",
    "<td>2</td>\n",
    "<td><p><b>rb</b></p>\n",
    "<p>Opens a file for reading only in binary format. The file pointer is placed at the beginning of the file. This is the default mode.</p></td>\n",
    "</tr>\n",
    "<tr>\n",
    "<td>3</td>\n",
    "<td><p><b>r+</b></p>\n",
    "<p>Opens a file for both reading and writing. The file pointer placed at the beginning of the file.</p></td>\n",
    "</tr>\n",
    "<tr>\n",
    "<td>4</td>\n",
    "<td><p><b>rb+</b></p>\n",
    "<p>Opens a file for both reading and writing in binary format. The file pointer placed at the beginning of the file.</p></td>\n",
    "</tr>\n",
    "<tr>\n",
    "<td>5</td>\n",
    "<td><p><b>w</b></p>\n",
    "<p>Opens a file for writing only. Overwrites the file if the file exists. If the file does not exist, creates a new file for writing.</p></td>\n",
    "</tr>\n",
    "<tr>\n",
    "<td>6</td>\n",
    "<td><p><b>wb</b></p>\n",
    "<p>Opens a file for writing only in binary format. Overwrites the file if the file exists. If the file does not exist, creates a new file for writing.</p></td>\n",
    "</tr>\n",
    "<tr>\n",
    "<td>7</td>\n",
    "<td><p><b>w+</b></p>\n",
    "<p>Opens a file for both writing and reading. Overwrites the existing file if the file exists. If the file does not exist, creates a new file for reading and writing.</p></td>\n",
    "</tr> \n",
    "<tr>\n",
    "<td>8</td>\n",
    "<td><p><b>wb+</b></p>\n",
    "<p>Opens a file for both writing and reading in binary format. Overwrites the existing file if the file exists. If the file does not exist, creates a new file for reading and writing.</p></td>\n",
    "</tr>\n",
    "<tr>\n",
    "<td>9</td>\n",
    "<td><p><b>a</b></p>\n",
    "<p>Opens a file for appending. The file pointer is at the end of the file if the file exists. That is, the file is in the append mode. If the file does not exist, it creates a new file for writing.</p></td>\n",
    "</tr> \n",
    "<tr>\n",
    "<td>10</td>\n",
    "<td><p><b>ab</b></p>\n",
    "<p>Opens a file for appending in binary format. The file pointer is at the end of the file if the file exists. That is, the file is in the append mode. If the file does not exist, it creates a new file for writing.</p></td>\n",
    "</tr> \n",
    "<tr>\n",
    "<td>11</td>\n",
    "<td><p><b>a+</b></p>\n",
    "<p>Opens a file for both appending and reading. The file pointer is at the end of the file if the file exists. The file opens in the append mode. If the file does not exist, it creates a new file for reading and writing.</p></td>\n",
    "</tr> \n",
    "<tr>\n",
    "<td>12</td>\n",
    "<td><p><b>ab+</b></p>\n",
    "<p>Opens a file for both appending and reading in binary format. The file pointer is at the end of the file if the file exists. The file opens in the append mode. If the file does not exist, it creates a new file for reading and writing.</p></td>\n",
    "</tr>\n",
    "</tbody></table>"
   ]
  },
  {
   "cell_type": "code",
   "execution_count": 9,
   "metadata": {},
   "outputs": [
    {
     "data": {
      "text/plain": [
       "'this is just writing'"
      ]
     },
     "execution_count": 9,
     "metadata": {},
     "output_type": "execute_result"
    }
   ],
   "source": [
    "file_object=open('testfile.csv','w')\n",
    "file_object.write('this is just writing')\n",
    "file_obj1=open('testfile.csv','r+')\n",
    "file_obj1.read()"
   ]
  },
  {
   "cell_type": "code",
   "execution_count": 14,
   "metadata": {},
   "outputs": [
    {
     "name": "stdout",
     "output_type": "stream",
     "text": [
      "this is next testing\n"
     ]
    }
   ],
   "source": [
    "with open('testfile.csv','w') as file_obj:\n",
    "    file_obj.write('this is next testing')\n",
    "    \n",
    "with open('testfile.csv','r') as read_file:\n",
    "    print(read_file.read())"
   ]
  },
  {
   "cell_type": "code",
   "execution_count": null,
   "metadata": {},
   "outputs": [],
   "source": []
  },
  {
   "cell_type": "markdown",
   "metadata": {},
   "source": [
    "Refrences:\n",
    "    https://medium.com/@bramblexu/understand-the-buffer-policy-in-python-78e91e7759ca\n",
    "    https://www.tutorialspoint.com/python/python_files_io.htm    "
   ]
  },
  {
   "cell_type": "code",
   "execution_count": null,
   "metadata": {},
   "outputs": [],
   "source": []
  }
 ],
 "metadata": {
  "kernelspec": {
   "display_name": "Python 3",
   "language": "python",
   "name": "python3"
  },
  "language_info": {
   "codemirror_mode": {
    "name": "ipython",
    "version": 3
   },
   "file_extension": ".py",
   "mimetype": "text/x-python",
   "name": "python",
   "nbconvert_exporter": "python",
   "pygments_lexer": "ipython3",
   "version": "3.7.3"
  }
 },
 "nbformat": 4,
 "nbformat_minor": 2
}
